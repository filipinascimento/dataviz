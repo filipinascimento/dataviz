{
 "cells": [
  {
   "cell_type": "markdown",
   "metadata": {},
   "source": [
    "# Homework 10 - Maps (optional)\n",
    "In this homework, we want to see a map visualization. Feel free to use any dataset you like. We recommend the use of Altair.\n",
    "\n",
    "## Instructions\n",
    "\n",
    "1. **Project Setup**:  \n",
    "   - Set up your Python and Jupyter (or VSCode) environment.  \n",
    "   - Clone or download the repository provided in class (refer to the class notes).\n",
    "\n",
    "2. **Choose a Dataset**:  \n",
    "   - You can use any dataset with geographic data. Even a dataset you have used for your project is fine.\n",
    "\n",
    "3. **Identify The Geolocated Features**:\n",
    "   - Identify which features can be used for geolocation in your dataset. Examples include latitude and longitude, city names, state names, country names, or any other geographic identifiers.\n",
    "\n",
    "4. **Choose a map visualization approach**:\n",
    "   - Select a map visualization based on the methods explored in class or in the [previous materials](../class).\n",
    "   - We recommend using Altair for its simplicity and effectiveness in creating interactive visualizations. But you are free to use other libraries.\n",
    "\n",
    "5. **Documentation**:  \n",
    "   - Comment your code and add markdown explanations for each part of your analysis.\n",
    "\n",
    "6. **Example datasets**\n",
    " - **Global Earthquakes - USGS** (CSV feeds)\n",
    "   [https://earthquake.usgs.gov/earthquakes/feed/v1.0/csv.php](https://earthquake.usgs.gov/earthquakes/feed/v1.0/csv.php)\n",
    "\n",
    " - **Airbnb Listings - Inside Airbnb** (CSV per city)\n",
    "   [http://insideairbnb.com/get-the-data/](http://insideairbnb.com/get-the-data/)\n",
    "\n",
    " - **Meteorite Landings - NASA Open Data** (CSV)\n",
    "   https://www.kaggle.com/datasets/nasa/meteorite-landings\n",
    "\n",
    " - **US County Population (2018 estimates) - Census Bureau** (CSV)\n",
    "    [https://www2.census.gov/programs-surveys/popest/datasets/2010-2018/counties/totals/co-est2018-alldata.csv](https://www2.census.gov/programs-surveys/popest/datasets/2010-2018/counties/totals/co-est2018-alldata.csv)\n",
    "    \n",
    " - **World Happiness Report (by country)** (CSV)\n",
    "    https://worldhappiness.report/data-sharing/\n",
    "\n",
    "\n",
    "7. **Submission**:  \n",
    "   - Ensure your notebook is complete and all cells are executed without errors.\n",
    "   - Save your notebook and export as either PDF or HTML. If the visualizations using altair are not being shown in the html, submit a separated version with altair html. Refer to: https://altair-viz.github.io/getting_started/starting.html#publishing-your-visualization (you can use the `chart.save('chart_file.html')` method).\n",
    "   - Submit to Canvas."
   ]
  },
  {
   "cell_type": "markdown",
   "metadata": {},
   "source": []
  }
 ],
 "metadata": {
  "kernelspec": {
   "display_name": "Python 3",
   "language": "python",
   "name": "python3"
  },
  "language_info": {
   "codemirror_mode": {
    "name": "ipython",
    "version": 3
   },
   "file_extension": ".py",
   "mimetype": "text/x-python",
   "name": "python",
   "nbconvert_exporter": "python",
   "pygments_lexer": "ipython3",
   "version": "3.11.11"
  }
 },
 "nbformat": 4,
 "nbformat_minor": 2
}
