{
 "cells": [
  {
   "cell_type": "markdown",
   "metadata": {},
   "source": [
    "# Homework 12 - Networks\n",
    "In this homework, create a visualization of a network of your choice. You are free to use any software or library to create a simple network visualization. You don't need to use this notebook or even Python, but you can if you want. The goal is to explore the data and find interesting patterns or clusters visually. If you need references, you can look at our [class hands-on](../class) materials.\n",
    "\n",
    "## Instructions\n",
    "\n",
    "1. **Project Setup**:  \n",
    "   - Choose a software or library for network visualization. Some popular options include:\n",
    "     - Python libraries: igraph, NetworkX, Matplotlib\n",
    "     - JavaScript libraries: D3.js, Sigma.js\n",
    "     - Other tools: Gephi, Cytoscape\n",
    "\n",
    "2. **Choose a Dataset**:  \n",
    "   - Choose a network dataset that interests you. Or any of the datasets provided in the `Datasets/Networks` folder in this repository.\n",
    "\n",
    "3. **Convert to the desired network format if needed**:\n",
    "   - If your dataset is not already in a network format (e.g., edge list, adjacency matrix), convert it to the appropriate format. You can use libraries like Pandas to manipulate your data into the required structure. You can also use `igraph` or `NetworkX` to create the network from your data.\n",
    "\n",
    "4. **Create at least one visualization of that network**:\n",
    "   - You can create a simple visualization using the chosen library or software.\n",
    "\n",
    "5. **Documentation and Discussion**:  \n",
    "   - Comment your code and add markdown explanations for each part of your analysis. Discuss the insights you gained from the visualizations. If you do not find any insights, explain the limitations of the dataset or the visualization techniques used.\n",
    "\n",
    "6. **Submission**:  \n",
    "   - Ensure your notebook is complete and all cells are executed without errors.\n",
    "   - Save your notebook and export as either PDF or HTML. If the visualizations using altair are not being shown in the html, submit a separated version with altair html. Refer to: https://altair-viz.github.io/getting_started/starting.html#publishing-your-visualization (you can use the `chart.save('chart_file.html')` method).\n",
    "   - Submit to Canvas."
   ]
  },
  {
   "cell_type": "code",
   "execution_count": null,
   "metadata": {},
   "outputs": [],
   "source": [
    "# YOUR CODE STARTS HERE"
   ]
  },
  {
   "cell_type": "markdown",
   "metadata": {},
   "source": [
    "### Discussion\n",
    "Discuss briefly the results of the dimension reduction methods you applied. What do you observe? Do the reduced dimensions capture any structure of the data? How do the two methods compare? Are there any interesting patterns or clusters in the data that can be observed visually? "
   ]
  },
  {
   "cell_type": "markdown",
   "metadata": {},
   "source": [
    "\n",
    " `YOUR DISCUSSION HERE`"
   ]
  }
 ],
 "metadata": {
  "kernelspec": {
   "display_name": "Python 3",
   "language": "python",
   "name": "python3"
  },
  "language_info": {
   "codemirror_mode": {
    "name": "ipython",
    "version": 3
   },
   "file_extension": ".py",
   "mimetype": "text/x-python",
   "name": "python",
   "nbconvert_exporter": "python",
   "pygments_lexer": "ipython3",
   "version": "3.11.11"
  }
 },
 "nbformat": 4,
 "nbformat_minor": 2
}
