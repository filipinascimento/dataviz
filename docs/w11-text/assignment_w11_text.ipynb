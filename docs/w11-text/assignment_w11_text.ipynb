{
 "cells": [
  {
   "cell_type": "markdown",
   "metadata": {},
   "source": [
    "# Homework 11 - Text (optional)\n",
    "In this homework, you will create a text visualization of a dataset of your choice. It can be either a collection of text documents (like tweets, news articles, etc) or a single text document. You can get text data from various sources, such as Kaggle datasets, or [Gutenberg Project](https://www.gutenberg.org/), or any other source that provides text data. Then you will use any tecniques you learned in class to visualize the text data. Explain the visualization and its insights or limitations in case you don't find any insights.\n",
    "\n",
    "## Instructions\n",
    "\n",
    "1. **Project Setup**:  \n",
    "   - Set up your Python and Jupyter (or VSCode) environment.  \n",
    "   - Clone or download the repository provided in class (refer to the class notes).\n",
    "\n",
    "2. **Choose a Dataset**:  \n",
    "   - Select a dataset that contains text data. It can be anything from tweets, news articles, books, or any other text-based dataset. Ensure that the dataset is in a format that can be easily read into Python (like CSV, JSON, TXT, etc.).\n",
    "\n",
    "3. **Identify the text content**:\n",
    "   - Identify which features in the dataset contain the text data you want to visualize. For example, if you are using a dataset of tweets, the text content will be in the 'text' or 'content' column.\n",
    "\n",
    "4. **Choose at least two text visualization techniques and apply them to the data**:\n",
    "   - You can use techniques such as:\n",
    "     - Word clouds\n",
    "     - Frequency distribution of words\n",
    "     - Adjacency networks\n",
    "     - Syntactic parsing visualization\n",
    "     - Topic modeling visualization\n",
    "     - Named entity recognition visualization\n",
    "     - Any other text visualization technique you learned in class\n",
    "    - You can use the hands-on [class examples as reference](../class) (feel free to copy and modify the code as needed).\n",
    "\n",
    "5. **Documentation and discussion**:  \n",
    "   - Comment your code and add markdown explanations for each part of your analysis. \n",
    "   - Discuss the insights you gained from the visualizations. If you do not find any insights, explain the limitations of the dataset or the visualization techniques used.\n",
    "\n",
    "6. **Submission**:  \n",
    "   - Ensure your notebook is complete and all cells are executed without errors.\n",
    "   - Save your notebook and export as either PDF or HTML. If the visualizations using altair are not being shown in the html, submit a separated version with altair html. Refer to: https://altair-viz.github.io/getting_started/starting.html#publishing-your-visualization (you can use the `chart.save('chart_file.html')` method).\n",
    "   - Submit to Canvas."
   ]
  },
  {
   "cell_type": "code",
   "execution_count": null,
   "metadata": {},
   "outputs": [],
   "source": [
    "# Start YOUR CODE HERE"
   ]
  },
  {
   "cell_type": "markdown",
   "metadata": {},
   "source": [
    "### Discussion\n",
    "Discuss briefly the results of the dimension reduction methods you applied. What do you observe? Do the reduced dimensions capture any structure of the data? How do the two methods compare? Are there any interesting patterns or clusters in the data that can be observed visually? "
   ]
  },
  {
   "cell_type": "markdown",
   "metadata": {},
   "source": [
    "\n",
    " `YOUR DISCUSSION HERE`"
   ]
  }
 ],
 "metadata": {
  "kernelspec": {
   "display_name": "Python 3",
   "language": "python",
   "name": "python3"
  },
  "language_info": {
   "codemirror_mode": {
    "name": "ipython",
    "version": 3
   },
   "file_extension": ".py",
   "mimetype": "text/x-python",
   "name": "python",
   "nbconvert_exporter": "python",
   "pygments_lexer": "ipython3",
   "version": "3.11.11"
  }
 },
 "nbformat": 4,
 "nbformat_minor": 2
}
